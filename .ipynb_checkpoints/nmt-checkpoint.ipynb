{
 "cells": [
  {
   "cell_type": "code",
   "execution_count": 1,
   "id": "9d8408c9-79f1-4442-9c09-d8388e5ef13e",
   "metadata": {},
   "outputs": [],
   "source": [
    "import pandas as pd\n",
    "import numpy as np\n",
    "\n",
    "from sklearn.utils import shuffle\n",
    "from sklearn.model_selection import train_test_split\n",
    "\n",
    "from keras.layers import Input, LSTM, Embedding, Dense\n",
    "from keras.models import Model\n",
    "from tensorflow.keras.preprocessing.text import Tokenizer\n",
    "from tensorflow.keras.callbacks import ModelCheckpoint\n",
    "\n",
    "import re\n",
    "import string\n",
    "from string import digits"
   ]
  },
  {
   "cell_type": "code",
   "execution_count": 2,
   "id": "b657f5c6-66d7-4985-b872-796cfaf7eb65",
   "metadata": {},
   "outputs": [
    {
     "data": {
      "text/html": [
       "<div>\n",
       "<style scoped>\n",
       "    .dataframe tbody tr th:only-of-type {\n",
       "        vertical-align: middle;\n",
       "    }\n",
       "\n",
       "    .dataframe tbody tr th {\n",
       "        vertical-align: top;\n",
       "    }\n",
       "\n",
       "    .dataframe thead th {\n",
       "        text-align: right;\n",
       "    }\n",
       "</style>\n",
       "<table border=\"1\" class=\"dataframe\">\n",
       "  <thead>\n",
       "    <tr style=\"text-align: right;\">\n",
       "      <th></th>\n",
       "      <th>source</th>\n",
       "      <th>english_sentence</th>\n",
       "      <th>hindi_sentence</th>\n",
       "    </tr>\n",
       "  </thead>\n",
       "  <tbody>\n",
       "    <tr>\n",
       "      <th>0</th>\n",
       "      <td>ted</td>\n",
       "      <td>politicians do not have permission to do what ...</td>\n",
       "      <td>राजनीतिज्ञों के पास जो कार्य करना चाहिए, वह कर...</td>\n",
       "    </tr>\n",
       "    <tr>\n",
       "      <th>1</th>\n",
       "      <td>ted</td>\n",
       "      <td>I'd like to tell you about one such child,</td>\n",
       "      <td>मई आपको ऐसे ही एक बच्चे के बारे में बताना चाहू...</td>\n",
       "    </tr>\n",
       "    <tr>\n",
       "      <th>2</th>\n",
       "      <td>indic2012</td>\n",
       "      <td>This percentage is even greater than the perce...</td>\n",
       "      <td>यह प्रतिशत भारत में हिन्दुओं प्रतिशत से अधिक है।</td>\n",
       "    </tr>\n",
       "    <tr>\n",
       "      <th>3</th>\n",
       "      <td>ted</td>\n",
       "      <td>what we really mean is that they're bad at not...</td>\n",
       "      <td>हम ये नहीं कहना चाहते कि वो ध्यान नहीं दे पाते</td>\n",
       "    </tr>\n",
       "    <tr>\n",
       "      <th>4</th>\n",
       "      <td>indic2012</td>\n",
       "      <td>.The ending portion of these Vedas is called U...</td>\n",
       "      <td>इन्हीं वेदों का अंतिम भाग उपनिषद कहलाता है।</td>\n",
       "    </tr>\n",
       "  </tbody>\n",
       "</table>\n",
       "</div>"
      ],
      "text/plain": [
       "      source                                   english_sentence  \\\n",
       "0        ted  politicians do not have permission to do what ...   \n",
       "1        ted         I'd like to tell you about one such child,   \n",
       "2  indic2012  This percentage is even greater than the perce...   \n",
       "3        ted  what we really mean is that they're bad at not...   \n",
       "4  indic2012  .The ending portion of these Vedas is called U...   \n",
       "\n",
       "                                      hindi_sentence  \n",
       "0  राजनीतिज्ञों के पास जो कार्य करना चाहिए, वह कर...  \n",
       "1  मई आपको ऐसे ही एक बच्चे के बारे में बताना चाहू...  \n",
       "2   यह प्रतिशत भारत में हिन्दुओं प्रतिशत से अधिक है।  \n",
       "3     हम ये नहीं कहना चाहते कि वो ध्यान नहीं दे पाते  \n",
       "4        इन्हीं वेदों का अंतिम भाग उपनिषद कहलाता है।  "
      ]
     },
     "execution_count": 2,
     "metadata": {},
     "output_type": "execute_result"
    }
   ],
   "source": [
    "df = pd.read_csv(r\"C:\\Users\\gufra\\Desktop\\Work\\Projects\\NLP\\MachineTranslation\\data\\Hindi_English_Truncated_Corpus.csv\")\n",
    "df.head()"
   ]
  },
  {
   "cell_type": "code",
   "execution_count": 3,
   "id": "525b92fb-89e1-474e-9f29-5cc6c7667202",
   "metadata": {},
   "outputs": [],
   "source": [
    "df=df[~pd.isnull(df['english_sentence'])]\n",
    "df.drop_duplicates(inplace=True)"
   ]
  },
  {
   "cell_type": "code",
   "execution_count": 4,
   "id": "a07a42f9-608c-4277-b3ee-c9e7dd630af9",
   "metadata": {},
   "outputs": [
    {
     "data": {
      "text/html": [
       "<div>\n",
       "<style scoped>\n",
       "    .dataframe tbody tr th:only-of-type {\n",
       "        vertical-align: middle;\n",
       "    }\n",
       "\n",
       "    .dataframe tbody tr th {\n",
       "        vertical-align: top;\n",
       "    }\n",
       "\n",
       "    .dataframe thead th {\n",
       "        text-align: right;\n",
       "    }\n",
       "</style>\n",
       "<table border=\"1\" class=\"dataframe\">\n",
       "  <thead>\n",
       "    <tr style=\"text-align: right;\">\n",
       "      <th></th>\n",
       "      <th>index</th>\n",
       "      <th>source</th>\n",
       "      <th>english_sentence</th>\n",
       "      <th>hindi_sentence</th>\n",
       "    </tr>\n",
       "  </thead>\n",
       "  <tbody>\n",
       "    <tr>\n",
       "      <th>0</th>\n",
       "      <td>25520</td>\n",
       "      <td>indic2012</td>\n",
       "      <td>Islam is word from arabic and it full word is ...</td>\n",
       "      <td>इस्लाम शब्द अरबी भाषा का शब्द है जिसका मूल शब्...</td>\n",
       "    </tr>\n",
       "    <tr>\n",
       "      <th>1</th>\n",
       "      <td>118633</td>\n",
       "      <td>ted</td>\n",
       "      <td>Everything is reliant on these computers working.</td>\n",
       "      <td>इन कंप्यूटरों पर सब कुछ निर्भर है .</td>\n",
       "    </tr>\n",
       "    <tr>\n",
       "      <th>2</th>\n",
       "      <td>113495</td>\n",
       "      <td>tides</td>\n",
       "      <td>Parliament does not control the government .</td>\n",
       "      <td>संसद का सरकार पपर नियंत्रण नपहीं रहता .</td>\n",
       "    </tr>\n",
       "    <tr>\n",
       "      <th>3</th>\n",
       "      <td>29783</td>\n",
       "      <td>tides</td>\n",
       "      <td>Race equality New laws</td>\n",
       "      <td>नये कानून नस्ली समानता</td>\n",
       "    </tr>\n",
       "    <tr>\n",
       "      <th>4</th>\n",
       "      <td>111804</td>\n",
       "      <td>tides</td>\n",
       "      <td>The provision would not affect the power of Pa...</td>\n",
       "      <td>व्यवसायों आदि से होने वाली आय के बारे में विधि...</td>\n",
       "    </tr>\n",
       "  </tbody>\n",
       "</table>\n",
       "</div>"
      ],
      "text/plain": [
       "    index     source                                   english_sentence  \\\n",
       "0   25520  indic2012  Islam is word from arabic and it full word is ...   \n",
       "1  118633        ted  Everything is reliant on these computers working.   \n",
       "2  113495      tides       Parliament does not control the government .   \n",
       "3   29783      tides                             Race equality New laws   \n",
       "4  111804      tides  The provision would not affect the power of Pa...   \n",
       "\n",
       "                                      hindi_sentence  \n",
       "0  इस्लाम शब्द अरबी भाषा का शब्द है जिसका मूल शब्...  \n",
       "1                इन कंप्यूटरों पर सब कुछ निर्भर है .  \n",
       "2            संसद का सरकार पपर नियंत्रण नपहीं रहता .  \n",
       "3                             नये कानून नस्ली समानता  \n",
       "4  व्यवसायों आदि से होने वाली आय के बारे में विधि...  "
      ]
     },
     "execution_count": 4,
     "metadata": {},
     "output_type": "execute_result"
    }
   ],
   "source": [
    "df=df.sample(n=30000,random_state=42)\n",
    "df = df.reset_index()\n",
    "df.head()"
   ]
  },
  {
   "cell_type": "code",
   "execution_count": 5,
   "id": "e577cb57-7539-4e6e-928f-2da0c737bf14",
   "metadata": {},
   "outputs": [],
   "source": [
    "df.drop([\"index\",\"source\"],inplace=True, axis=1)\n",
    "# df.drop([\"source\"],inplace=True, axis=1)"
   ]
  },
  {
   "cell_type": "code",
   "execution_count": 6,
   "id": "a20efc61-8071-48cc-bd01-341fcb6a31a5",
   "metadata": {},
   "outputs": [
    {
     "data": {
      "text/html": [
       "<div>\n",
       "<style scoped>\n",
       "    .dataframe tbody tr th:only-of-type {\n",
       "        vertical-align: middle;\n",
       "    }\n",
       "\n",
       "    .dataframe tbody tr th {\n",
       "        vertical-align: top;\n",
       "    }\n",
       "\n",
       "    .dataframe thead th {\n",
       "        text-align: right;\n",
       "    }\n",
       "</style>\n",
       "<table border=\"1\" class=\"dataframe\">\n",
       "  <thead>\n",
       "    <tr style=\"text-align: right;\">\n",
       "      <th></th>\n",
       "      <th>english_sentence</th>\n",
       "      <th>hindi_sentence</th>\n",
       "    </tr>\n",
       "  </thead>\n",
       "  <tbody>\n",
       "    <tr>\n",
       "      <th>0</th>\n",
       "      <td>Islam is word from arabic and it full word is ...</td>\n",
       "      <td>इस्लाम शब्द अरबी भाषा का शब्द है जिसका मूल शब्...</td>\n",
       "    </tr>\n",
       "    <tr>\n",
       "      <th>1</th>\n",
       "      <td>Everything is reliant on these computers working.</td>\n",
       "      <td>इन कंप्यूटरों पर सब कुछ निर्भर है .</td>\n",
       "    </tr>\n",
       "    <tr>\n",
       "      <th>2</th>\n",
       "      <td>Parliament does not control the government .</td>\n",
       "      <td>संसद का सरकार पपर नियंत्रण नपहीं रहता .</td>\n",
       "    </tr>\n",
       "    <tr>\n",
       "      <th>3</th>\n",
       "      <td>Race equality New laws</td>\n",
       "      <td>नये कानून नस्ली समानता</td>\n",
       "    </tr>\n",
       "    <tr>\n",
       "      <th>4</th>\n",
       "      <td>The provision would not affect the power of Pa...</td>\n",
       "      <td>व्यवसायों आदि से होने वाली आय के बारे में विधि...</td>\n",
       "    </tr>\n",
       "  </tbody>\n",
       "</table>\n",
       "</div>"
      ],
      "text/plain": [
       "                                    english_sentence  \\\n",
       "0  Islam is word from arabic and it full word is ...   \n",
       "1  Everything is reliant on these computers working.   \n",
       "2       Parliament does not control the government .   \n",
       "3                             Race equality New laws   \n",
       "4  The provision would not affect the power of Pa...   \n",
       "\n",
       "                                      hindi_sentence  \n",
       "0  इस्लाम शब्द अरबी भाषा का शब्द है जिसका मूल शब्...  \n",
       "1                इन कंप्यूटरों पर सब कुछ निर्भर है .  \n",
       "2            संसद का सरकार पपर नियंत्रण नपहीं रहता .  \n",
       "3                             नये कानून नस्ली समानता  \n",
       "4  व्यवसायों आदि से होने वाली आय के बारे में विधि...  "
      ]
     },
     "execution_count": 6,
     "metadata": {},
     "output_type": "execute_result"
    }
   ],
   "source": [
    "df.head()"
   ]
  },
  {
   "cell_type": "code",
   "execution_count": 7,
   "id": "1ad58d26-6698-4c5b-a08b-c26965a84e7f",
   "metadata": {},
   "outputs": [],
   "source": [
    "df['english_sentence']=df['english_sentence'].apply(lambda x: x.lower())\n",
    "df['hindi_sentence']=df['hindi_sentence'].apply(lambda x: x.lower())"
   ]
  },
  {
   "cell_type": "code",
   "execution_count": 8,
   "id": "9e87c3a3-d8f3-4811-926f-c61875c1a2ab",
   "metadata": {},
   "outputs": [],
   "source": [
    "df['english_sentence']=df['english_sentence'].apply(lambda x: re.sub(\"'\", '', x))\n",
    "df['hindi_sentence']=df['hindi_sentence'].apply(lambda x: re.sub(\"'\", '', x))"
   ]
  },
  {
   "cell_type": "code",
   "execution_count": 9,
   "id": "9c17a3a2-b498-4e61-af9f-410fad8213ec",
   "metadata": {},
   "outputs": [],
   "source": [
    "exclude = set(string.punctuation) # Set of all special characters\n",
    "# Remove all the special characters\n",
    "df['english_sentence']=df['english_sentence'].apply(lambda x: ''.join(ch for ch in x if ch not in exclude))\n",
    "df['hindi_sentence']=df['hindi_sentence'].apply(lambda x: ''.join(ch for ch in x if ch not in exclude))"
   ]
  },
  {
   "cell_type": "code",
   "execution_count": 10,
   "id": "b9393c9f-a8ef-49fe-b631-423536f3bf90",
   "metadata": {},
   "outputs": [],
   "source": [
    "# Remove all numbers from text\n",
    "remove_digits = str.maketrans('', '', digits)\n",
    "df['english_sentence']=df['english_sentence'].apply(lambda x: x.translate(remove_digits))\n",
    "df['hindi_sentence']=df['hindi_sentence'].apply(lambda x: x.translate(remove_digits))\n",
    "\n",
    "df['hindi_sentence'] = df['hindi_sentence'].apply(lambda x: re.sub(\"[२३०८१५७९४६]\", \"\", x))\n",
    "\n",
    "# Remove extra spaces\n",
    "df['english_sentence']=df['english_sentence'].apply(lambda x: x.strip())\n",
    "df['hindi_sentence']=df['hindi_sentence'].apply(lambda x: x.strip())\n",
    "df['english_sentence']=df['english_sentence'].apply(lambda x: re.sub(\" +\", \" \", x))\n",
    "df['hindi_sentence']=df['hindi_sentence'].apply(lambda x: re.sub(\" +\", \" \", x))"
   ]
  },
  {
   "cell_type": "code",
   "execution_count": 11,
   "id": "ce690dee-e5a6-43e0-986d-13a181073034",
   "metadata": {},
   "outputs": [],
   "source": [
    "df['hindi_sentence'] = df['hindi_sentence'].apply(lambda x : 'START_ '+ x + ' _END')"
   ]
  },
  {
   "cell_type": "code",
   "execution_count": 12,
   "id": "23b30c8a-16af-4a2d-a6cc-e3c398321759",
   "metadata": {},
   "outputs": [
    {
     "data": {
      "text/html": [
       "<div>\n",
       "<style scoped>\n",
       "    .dataframe tbody tr th:only-of-type {\n",
       "        vertical-align: middle;\n",
       "    }\n",
       "\n",
       "    .dataframe tbody tr th {\n",
       "        vertical-align: top;\n",
       "    }\n",
       "\n",
       "    .dataframe thead th {\n",
       "        text-align: right;\n",
       "    }\n",
       "</style>\n",
       "<table border=\"1\" class=\"dataframe\">\n",
       "  <thead>\n",
       "    <tr style=\"text-align: right;\">\n",
       "      <th></th>\n",
       "      <th>english_sentence</th>\n",
       "      <th>hindi_sentence</th>\n",
       "    </tr>\n",
       "  </thead>\n",
       "  <tbody>\n",
       "    <tr>\n",
       "      <th>0</th>\n",
       "      <td>islam is word from arabic and it full word is ...</td>\n",
       "      <td>START_ इस्लाम शब्द अरबी भाषा का शब्द है जिसका ...</td>\n",
       "    </tr>\n",
       "    <tr>\n",
       "      <th>1</th>\n",
       "      <td>everything is reliant on these computers working</td>\n",
       "      <td>START_ इन कंप्यूटरों पर सब कुछ निर्भर है _END</td>\n",
       "    </tr>\n",
       "    <tr>\n",
       "      <th>2</th>\n",
       "      <td>parliament does not control the government</td>\n",
       "      <td>START_ संसद का सरकार पपर नियंत्रण नपहीं रहता _END</td>\n",
       "    </tr>\n",
       "    <tr>\n",
       "      <th>3</th>\n",
       "      <td>race equality new laws</td>\n",
       "      <td>START_ नये कानून नस्ली समानता _END</td>\n",
       "    </tr>\n",
       "    <tr>\n",
       "      <th>4</th>\n",
       "      <td>the provision would not affect the power of pa...</td>\n",
       "      <td>START_ व्यवसायों आदि से होने वाली आय के बारे म...</td>\n",
       "    </tr>\n",
       "  </tbody>\n",
       "</table>\n",
       "</div>"
      ],
      "text/plain": [
       "                                    english_sentence  \\\n",
       "0  islam is word from arabic and it full word is ...   \n",
       "1   everything is reliant on these computers working   \n",
       "2         parliament does not control the government   \n",
       "3                             race equality new laws   \n",
       "4  the provision would not affect the power of pa...   \n",
       "\n",
       "                                      hindi_sentence  \n",
       "0  START_ इस्लाम शब्द अरबी भाषा का शब्द है जिसका ...  \n",
       "1      START_ इन कंप्यूटरों पर सब कुछ निर्भर है _END  \n",
       "2  START_ संसद का सरकार पपर नियंत्रण नपहीं रहता _END  \n",
       "3                 START_ नये कानून नस्ली समानता _END  \n",
       "4  START_ व्यवसायों आदि से होने वाली आय के बारे म...  "
      ]
     },
     "execution_count": 12,
     "metadata": {},
     "output_type": "execute_result"
    }
   ],
   "source": [
    "df.head()"
   ]
  },
  {
   "cell_type": "code",
   "execution_count": 13,
   "id": "86b6128f-df75-4284-8de6-7125976e58d4",
   "metadata": {},
   "outputs": [
    {
     "data": {
      "text/plain": [
       "(34219, 40734)"
      ]
     },
     "execution_count": 13,
     "metadata": {},
     "output_type": "execute_result"
    }
   ],
   "source": [
    "eng_vocab = set()\n",
    "hindi_vocab = set()\n",
    "\n",
    "for i in range(len(df)):\n",
    "    eng = df.english_sentence.iloc[i].split(\" \")\n",
    "    hindi = df.hindi_sentence.iloc[i].split(\" \")\n",
    "    \n",
    "    for j in eng:\n",
    "        eng_vocab.add(j)\n",
    "        \n",
    "    for j in hindi:\n",
    "        hindi_vocab.add(j)\n",
    "\n",
    "len(eng_vocab), len(hindi_vocab)"
   ]
  },
  {
   "cell_type": "code",
   "execution_count": 14,
   "id": "ca4d0958-ba27-4760-9db3-afc39816dd16",
   "metadata": {},
   "outputs": [],
   "source": [
    "df['length_eng_sentence']=df['english_sentence'].apply(lambda x:len(x.split(\" \")))\n",
    "df['length_hin_sentence']=df['hindi_sentence'].apply(lambda x:len(x.split(\" \")))"
   ]
  },
  {
   "cell_type": "code",
   "execution_count": 15,
   "id": "e12de31b-5439-46e6-bb7b-c58a11642cf3",
   "metadata": {},
   "outputs": [
    {
     "data": {
      "text/html": [
       "<div>\n",
       "<style scoped>\n",
       "    .dataframe tbody tr th:only-of-type {\n",
       "        vertical-align: middle;\n",
       "    }\n",
       "\n",
       "    .dataframe tbody tr th {\n",
       "        vertical-align: top;\n",
       "    }\n",
       "\n",
       "    .dataframe thead th {\n",
       "        text-align: right;\n",
       "    }\n",
       "</style>\n",
       "<table border=\"1\" class=\"dataframe\">\n",
       "  <thead>\n",
       "    <tr style=\"text-align: right;\">\n",
       "      <th></th>\n",
       "      <th>english_sentence</th>\n",
       "      <th>hindi_sentence</th>\n",
       "      <th>length_eng_sentence</th>\n",
       "      <th>length_hin_sentence</th>\n",
       "    </tr>\n",
       "  </thead>\n",
       "  <tbody>\n",
       "    <tr>\n",
       "      <th>0</th>\n",
       "      <td>islam is word from arabic and it full word is ...</td>\n",
       "      <td>START_ इस्लाम शब्द अरबी भाषा का शब्द है जिसका ...</td>\n",
       "      <td>14</td>\n",
       "      <td>21</td>\n",
       "    </tr>\n",
       "    <tr>\n",
       "      <th>1</th>\n",
       "      <td>everything is reliant on these computers working</td>\n",
       "      <td>START_ इन कंप्यूटरों पर सब कुछ निर्भर है _END</td>\n",
       "      <td>7</td>\n",
       "      <td>9</td>\n",
       "    </tr>\n",
       "    <tr>\n",
       "      <th>2</th>\n",
       "      <td>parliament does not control the government</td>\n",
       "      <td>START_ संसद का सरकार पपर नियंत्रण नपहीं रहता _END</td>\n",
       "      <td>6</td>\n",
       "      <td>9</td>\n",
       "    </tr>\n",
       "    <tr>\n",
       "      <th>3</th>\n",
       "      <td>race equality new laws</td>\n",
       "      <td>START_ नये कानून नस्ली समानता _END</td>\n",
       "      <td>4</td>\n",
       "      <td>6</td>\n",
       "    </tr>\n",
       "    <tr>\n",
       "      <th>4</th>\n",
       "      <td>the provision would not affect the power of pa...</td>\n",
       "      <td>START_ व्यवसायों आदि से होने वाली आय के बारे म...</td>\n",
       "      <td>22</td>\n",
       "      <td>24</td>\n",
       "    </tr>\n",
       "  </tbody>\n",
       "</table>\n",
       "</div>"
      ],
      "text/plain": [
       "                                    english_sentence  \\\n",
       "0  islam is word from arabic and it full word is ...   \n",
       "1   everything is reliant on these computers working   \n",
       "2         parliament does not control the government   \n",
       "3                             race equality new laws   \n",
       "4  the provision would not affect the power of pa...   \n",
       "\n",
       "                                      hindi_sentence  length_eng_sentence  \\\n",
       "0  START_ इस्लाम शब्द अरबी भाषा का शब्द है जिसका ...                   14   \n",
       "1      START_ इन कंप्यूटरों पर सब कुछ निर्भर है _END                    7   \n",
       "2  START_ संसद का सरकार पपर नियंत्रण नपहीं रहता _END                    6   \n",
       "3                 START_ नये कानून नस्ली समानता _END                    4   \n",
       "4  START_ व्यवसायों आदि से होने वाली आय के बारे म...                   22   \n",
       "\n",
       "   length_hin_sentence  \n",
       "0                   21  \n",
       "1                    9  \n",
       "2                    9  \n",
       "3                    6  \n",
       "4                   24  "
      ]
     },
     "execution_count": 15,
     "metadata": {},
     "output_type": "execute_result"
    }
   ],
   "source": [
    "df.head()"
   ]
  },
  {
   "cell_type": "code",
   "execution_count": 16,
   "id": "98d72ef3-33b2-4da5-9735-814f650e41a7",
   "metadata": {},
   "outputs": [
    {
     "data": {
      "text/plain": [
       "(2924, 4)"
      ]
     },
     "execution_count": 16,
     "metadata": {},
     "output_type": "execute_result"
    }
   ],
   "source": [
    "df[df['length_eng_sentence']>30].shape"
   ]
  },
  {
   "cell_type": "code",
   "execution_count": 17,
   "id": "00f89ad6-3422-4114-88a9-2274d3e85e8d",
   "metadata": {},
   "outputs": [
    {
     "data": {
      "text/plain": [
       "(30000, 4)"
      ]
     },
     "execution_count": 17,
     "metadata": {},
     "output_type": "execute_result"
    }
   ],
   "source": [
    "df.shape"
   ]
  },
  {
   "cell_type": "code",
   "execution_count": 18,
   "id": "ee593cf6-78bc-487c-a771-dd08c76c3c4e",
   "metadata": {},
   "outputs": [],
   "source": [
    "max_sentence_length = 20"
   ]
  },
  {
   "cell_type": "code",
   "execution_count": 19,
   "id": "fb278b3d-b06d-45d9-90d6-b28ed83d82d6",
   "metadata": {},
   "outputs": [],
   "source": [
    "df=df[df['length_eng_sentence']<=max_sentence_length]\n",
    "df=df[df['length_hin_sentence']<=max_sentence_length]"
   ]
  },
  {
   "cell_type": "code",
   "execution_count": 20,
   "id": "c770c2e7-277c-4684-80f0-35c4c3ce17f2",
   "metadata": {},
   "outputs": [],
   "source": [
    "max_length_eng=max(df['length_hin_sentence'])\n",
    "max_length_hindi=max(df['length_eng_sentence'])"
   ]
  },
  {
   "cell_type": "code",
   "execution_count": 21,
   "id": "547bfb2c-3dc7-42b1-8404-7233fd0a248c",
   "metadata": {},
   "outputs": [
    {
     "data": {
      "text/plain": [
       "(19829, 4)"
      ]
     },
     "execution_count": 21,
     "metadata": {},
     "output_type": "execute_result"
    }
   ],
   "source": [
    "df.shape"
   ]
  },
  {
   "cell_type": "code",
   "execution_count": 22,
   "id": "7c5a8817-bb22-4b75-895c-36720b1fe32a",
   "metadata": {},
   "outputs": [],
   "source": [
    "tokenizere = Tokenizer()\n",
    "tokenizere.fit_on_texts(df['english_sentence'])\n",
    "df['english_sentence'] = tokenizere.texts_to_sequences(df['english_sentence'])"
   ]
  },
  {
   "cell_type": "code",
   "execution_count": 23,
   "id": "f98506c9-6cd5-44eb-8dfd-d80272a65a97",
   "metadata": {},
   "outputs": [],
   "source": [
    "tokenizerh = Tokenizer()\n",
    "tokenizerh.fit_on_texts(df['hindi_sentence'])\n",
    "df['hindi_sentence'] = tokenizerh.texts_to_sequences(df['hindi_sentence'])"
   ]
  },
  {
   "cell_type": "code",
   "execution_count": 24,
   "id": "6ba66e1d-97a8-4e6e-a3fb-fc1d61f34c1e",
   "metadata": {},
   "outputs": [
    {
     "data": {
      "text/html": [
       "<div>\n",
       "<style scoped>\n",
       "    .dataframe tbody tr th:only-of-type {\n",
       "        vertical-align: middle;\n",
       "    }\n",
       "\n",
       "    .dataframe tbody tr th {\n",
       "        vertical-align: top;\n",
       "    }\n",
       "\n",
       "    .dataframe thead th {\n",
       "        text-align: right;\n",
       "    }\n",
       "</style>\n",
       "<table border=\"1\" class=\"dataframe\">\n",
       "  <thead>\n",
       "    <tr style=\"text-align: right;\">\n",
       "      <th></th>\n",
       "      <th>english_sentence</th>\n",
       "      <th>hindi_sentence</th>\n",
       "      <th>length_eng_sentence</th>\n",
       "      <th>length_hin_sentence</th>\n",
       "    </tr>\n",
       "  </thead>\n",
       "  <tbody>\n",
       "    <tr>\n",
       "      <th>1</th>\n",
       "      <td>[426, 7, 8444, 16, 42, 1415, 292]</td>\n",
       "      <td>[1, 73, 5013, 15, 102, 34, 630, 5, 2]</td>\n",
       "      <td>7</td>\n",
       "      <td>9</td>\n",
       "    </tr>\n",
       "    <tr>\n",
       "      <th>2</th>\n",
       "      <td>[310, 166, 24, 460, 1, 106]</td>\n",
       "      <td>[1, 398, 9, 129, 10260, 545, 10261, 611, 2]</td>\n",
       "      <td>6</td>\n",
       "      <td>9</td>\n",
       "    </tr>\n",
       "    <tr>\n",
       "      <th>3</th>\n",
       "      <td>[1670, 2685, 117, 1322]</td>\n",
       "      <td>[1, 631, 834, 6720, 3484, 2]</td>\n",
       "      <td>4</td>\n",
       "      <td>6</td>\n",
       "    </tr>\n",
       "    <tr>\n",
       "      <th>6</th>\n",
       "      <td>[28, 11, 8445, 28, 11, 8446]</td>\n",
       "      <td>[1, 351, 10262, 27, 10263, 41, 2]</td>\n",
       "      <td>6</td>\n",
       "      <td>7</td>\n",
       "    </tr>\n",
       "    <tr>\n",
       "      <th>7</th>\n",
       "      <td>[2686, 192, 46, 614, 337, 642, 8447, 8448]</td>\n",
       "      <td>[1, 4101, 44, 340, 434, 1068, 6721, 674, 2]</td>\n",
       "      <td>8</td>\n",
       "      <td>9</td>\n",
       "    </tr>\n",
       "  </tbody>\n",
       "</table>\n",
       "</div>"
      ],
      "text/plain": [
       "                             english_sentence  \\\n",
       "1           [426, 7, 8444, 16, 42, 1415, 292]   \n",
       "2                 [310, 166, 24, 460, 1, 106]   \n",
       "3                     [1670, 2685, 117, 1322]   \n",
       "6                [28, 11, 8445, 28, 11, 8446]   \n",
       "7  [2686, 192, 46, 614, 337, 642, 8447, 8448]   \n",
       "\n",
       "                                hindi_sentence  length_eng_sentence  \\\n",
       "1        [1, 73, 5013, 15, 102, 34, 630, 5, 2]                    7   \n",
       "2  [1, 398, 9, 129, 10260, 545, 10261, 611, 2]                    6   \n",
       "3                 [1, 631, 834, 6720, 3484, 2]                    4   \n",
       "6            [1, 351, 10262, 27, 10263, 41, 2]                    6   \n",
       "7  [1, 4101, 44, 340, 434, 1068, 6721, 674, 2]                    8   \n",
       "\n",
       "   length_hin_sentence  \n",
       "1                    9  \n",
       "2                    9  \n",
       "3                    6  \n",
       "6                    7  \n",
       "7                    9  "
      ]
     },
     "execution_count": 24,
     "metadata": {},
     "output_type": "execute_result"
    }
   ],
   "source": [
    "df.head()"
   ]
  },
  {
   "cell_type": "code",
   "execution_count": 25,
   "id": "cdf9a57d-0af8-4110-b511-5eec3631eaf9",
   "metadata": {},
   "outputs": [],
   "source": [
    "df['english_sentence'] = df['english_sentence'].apply(np.array)\n",
    "df['hindi_sentence'] = df['hindi_sentence'].apply(np.array)"
   ]
  },
  {
   "cell_type": "code",
   "execution_count": 26,
   "id": "9ceb9993-7447-47af-94a1-98ac08bd18df",
   "metadata": {},
   "outputs": [
    {
     "data": {
      "text/html": [
       "<div>\n",
       "<style scoped>\n",
       "    .dataframe tbody tr th:only-of-type {\n",
       "        vertical-align: middle;\n",
       "    }\n",
       "\n",
       "    .dataframe tbody tr th {\n",
       "        vertical-align: top;\n",
       "    }\n",
       "\n",
       "    .dataframe thead th {\n",
       "        text-align: right;\n",
       "    }\n",
       "</style>\n",
       "<table border=\"1\" class=\"dataframe\">\n",
       "  <thead>\n",
       "    <tr style=\"text-align: right;\">\n",
       "      <th></th>\n",
       "      <th>english_sentence</th>\n",
       "      <th>hindi_sentence</th>\n",
       "      <th>length_eng_sentence</th>\n",
       "      <th>length_hin_sentence</th>\n",
       "    </tr>\n",
       "  </thead>\n",
       "  <tbody>\n",
       "    <tr>\n",
       "      <th>1</th>\n",
       "      <td>[426, 7, 8444, 16, 42, 1415, 292]</td>\n",
       "      <td>[1, 73, 5013, 15, 102, 34, 630, 5, 2]</td>\n",
       "      <td>7</td>\n",
       "      <td>9</td>\n",
       "    </tr>\n",
       "    <tr>\n",
       "      <th>2</th>\n",
       "      <td>[310, 166, 24, 460, 1, 106]</td>\n",
       "      <td>[1, 398, 9, 129, 10260, 545, 10261, 611, 2]</td>\n",
       "      <td>6</td>\n",
       "      <td>9</td>\n",
       "    </tr>\n",
       "    <tr>\n",
       "      <th>3</th>\n",
       "      <td>[1670, 2685, 117, 1322]</td>\n",
       "      <td>[1, 631, 834, 6720, 3484, 2]</td>\n",
       "      <td>4</td>\n",
       "      <td>6</td>\n",
       "    </tr>\n",
       "    <tr>\n",
       "      <th>6</th>\n",
       "      <td>[28, 11, 8445, 28, 11, 8446]</td>\n",
       "      <td>[1, 351, 10262, 27, 10263, 41, 2]</td>\n",
       "      <td>6</td>\n",
       "      <td>7</td>\n",
       "    </tr>\n",
       "    <tr>\n",
       "      <th>7</th>\n",
       "      <td>[2686, 192, 46, 614, 337, 642, 8447, 8448]</td>\n",
       "      <td>[1, 4101, 44, 340, 434, 1068, 6721, 674, 2]</td>\n",
       "      <td>8</td>\n",
       "      <td>9</td>\n",
       "    </tr>\n",
       "  </tbody>\n",
       "</table>\n",
       "</div>"
      ],
      "text/plain": [
       "                             english_sentence  \\\n",
       "1           [426, 7, 8444, 16, 42, 1415, 292]   \n",
       "2                 [310, 166, 24, 460, 1, 106]   \n",
       "3                     [1670, 2685, 117, 1322]   \n",
       "6                [28, 11, 8445, 28, 11, 8446]   \n",
       "7  [2686, 192, 46, 614, 337, 642, 8447, 8448]   \n",
       "\n",
       "                                hindi_sentence  length_eng_sentence  \\\n",
       "1        [1, 73, 5013, 15, 102, 34, 630, 5, 2]                    7   \n",
       "2  [1, 398, 9, 129, 10260, 545, 10261, 611, 2]                    6   \n",
       "3                 [1, 631, 834, 6720, 3484, 2]                    4   \n",
       "6            [1, 351, 10262, 27, 10263, 41, 2]                    6   \n",
       "7  [1, 4101, 44, 340, 434, 1068, 6721, 674, 2]                    8   \n",
       "\n",
       "   length_hin_sentence  \n",
       "1                    9  \n",
       "2                    9  \n",
       "3                    6  \n",
       "6                    7  \n",
       "7                    9  "
      ]
     },
     "execution_count": 26,
     "metadata": {},
     "output_type": "execute_result"
    }
   ],
   "source": [
    "df.head()"
   ]
  },
  {
   "cell_type": "code",
   "execution_count": 27,
   "id": "5f572036-9102-4e2e-979c-b2b4dd0adc37",
   "metadata": {},
   "outputs": [
    {
     "data": {
      "text/plain": [
       "((15863,), (3966,))"
      ]
     },
     "execution_count": 27,
     "metadata": {},
     "output_type": "execute_result"
    }
   ],
   "source": [
    "X, y = df['english_sentence'], df['hindi_sentence']\n",
    "X_train, X_test, y_train, y_test = train_test_split(X, y, test_size = 0.2,random_state=42)\n",
    "X_train.shape, X_test.shape"
   ]
  },
  {
   "cell_type": "code",
   "execution_count": 28,
   "id": "09fd861e-ba9d-4aa3-82d6-a9dd003167cd",
   "metadata": {},
   "outputs": [],
   "source": [
    "X_train = X_train.reset_index()\n",
    "X_test = X_test.reset_index()\n",
    "y_train = y_train.reset_index()\n",
    "y_test = y_test.reset_index()"
   ]
  },
  {
   "cell_type": "code",
   "execution_count": 29,
   "id": "d5a4829f-9feb-44ad-acdc-638d56e9905a",
   "metadata": {},
   "outputs": [],
   "source": [
    "X_train.drop([\"index\"],inplace=True, axis=1)\n",
    "X_test.drop([\"index\"],inplace=True, axis=1)\n",
    "y_train.drop([\"index\"],inplace=True, axis=1)\n",
    "y_test.drop([\"index\"],inplace=True, axis=1)"
   ]
  },
  {
   "cell_type": "code",
   "execution_count": 30,
   "id": "ecc9bf30-66f8-4336-b1d5-12f6961c5a87",
   "metadata": {},
   "outputs": [],
   "source": [
    "X_train = np.array(X_train)\n",
    "y_train = np.array(y_train)\n",
    "X_test = np.array(X_test)\n",
    "y_test = np.array(y_test)"
   ]
  },
  {
   "cell_type": "code",
   "execution_count": 31,
   "id": "8e8f9482-9a7e-4b74-b710-3b61deec102c",
   "metadata": {},
   "outputs": [],
   "source": [
    "batch_size = 32\n",
    "\n",
    "X_train = X_train[:-(len(X_train)%batch_size)]\n",
    "X_test = X_test[:-(len(X_test)%batch_size)]\n",
    "y_train = y_train[:-(len(y_train)%batch_size)]\n",
    "y_test = y_test[:-(len(y_test)%batch_size)]"
   ]
  },
  {
   "cell_type": "code",
   "execution_count": 32,
   "id": "75ab6244-5080-4b9f-9563-ae2fa4933663",
   "metadata": {},
   "outputs": [
    {
     "data": {
      "text/plain": [
       "0"
      ]
     },
     "execution_count": 32,
     "metadata": {},
     "output_type": "execute_result"
    }
   ],
   "source": [
    "len(X_train)%batch_size"
   ]
  },
  {
   "cell_type": "code",
   "execution_count": 33,
   "id": "04545a5c-c02d-4c75-adf6-1d2adf02afc8",
   "metadata": {},
   "outputs": [],
   "source": [
    "def generate_batch(X_train, y_train, batch_size = 8):\n",
    "    while True:\n",
    "        for i in range(0, len(X_train), batch_size):\n",
    "            # print(i, i+batch_size)\n",
    "            encoder_x = np.zeros((batch_size, max_length_eng),dtype='float32')\n",
    "            decoder_x = np.zeros((batch_size, max_length_hindi),dtype='float32')\n",
    "            decoder_y = np.zeros((batch_size, max_length_hindi, len(hindi_vocab)),dtype='float32')\n",
    "            \n",
    "            batchx = X_train[i:i+batch_size]\n",
    "            batchy = y_train[i:i+batch_size]\n",
    "            for j in range(0,batch_size):\n",
    "                sent = batchx[j][0]\n",
    "                for k in range(len(sent)):\n",
    "                    encoder_x[j, k] = sent[k]\n",
    "\n",
    "                sent = batchy[j][0]\n",
    "                for k in range(len(sent)):\n",
    "                    decoder_x[j, k] = sent[k]\n",
    "\n",
    "                for k in range(1, len(sent)):\n",
    "                    decoder_y[j, k-1, int(decoder_x[j,k])] = 1\n",
    "            yield([encoder_x, decoder_x], decoder_y)"
   ]
  },
  {
   "cell_type": "markdown",
   "id": "243245bf-ccca-4972-b0ff-976234e1e1f8",
   "metadata": {},
   "source": [
    "----\n",
    "Model"
   ]
  },
  {
   "cell_type": "code",
   "execution_count": 34,
   "id": "9a07dfbc-13f3-44a7-8ba1-5fa6dd17680c",
   "metadata": {},
   "outputs": [],
   "source": [
    "latent_dim=300\n",
    "\n",
    "encoder_input = Input(shape=[None,])\n",
    "encoder_embeddings = Embedding(len(eng_vocab), latent_dim, mask_zero = True)(encoder_input)\n",
    "encoder_outputs, eh, ec = LSTM(latent_dim, return_state=True)(encoder_embeddings)\n",
    "\n",
    "encoder_states = [eh,ec]"
   ]
  },
  {
   "cell_type": "code",
   "execution_count": 35,
   "id": "2523b5a7-2ca2-4811-b172-e79f3d53ff3f",
   "metadata": {},
   "outputs": [],
   "source": [
    "decoder_input = Input(shape=[None,])\n",
    "\n",
    "decoder_embedder = Embedding(len(hindi_vocab), latent_dim, mask_zero = True)\n",
    "decoder_embeddings = decoder_embedder(decoder_input)\n",
    "\n",
    "decoder_lstm = LSTM(latent_dim, return_sequences=True, return_state=True)\n",
    "decoder_outputs, _, _ = decoder_lstm(decoder_embeddings,initial_state=encoder_states)\n",
    "\n",
    "decoder_dense = Dense(len(hindi_vocab), activation='softmax')\n",
    "decoder_outputs = decoder_dense(decoder_outputs)"
   ]
  },
  {
   "cell_type": "code",
   "execution_count": 36,
   "id": "4ab0500d-75d3-4f1f-9df1-96aa5338b531",
   "metadata": {},
   "outputs": [],
   "source": [
    "model = Model([encoder_input, decoder_input], decoder_outputs)"
   ]
  },
  {
   "cell_type": "code",
   "execution_count": 37,
   "id": "06ec70ed-6369-4dc4-9210-a70bef96c442",
   "metadata": {},
   "outputs": [
    {
     "name": "stdout",
     "output_type": "stream",
     "text": [
      "Model: \"model\"\n",
      "__________________________________________________________________________________________________\n",
      " Layer (type)                   Output Shape         Param #     Connected to                     \n",
      "==================================================================================================\n",
      " input_1 (InputLayer)           [(None, None)]       0           []                               \n",
      "                                                                                                  \n",
      " input_2 (InputLayer)           [(None, None)]       0           []                               \n",
      "                                                                                                  \n",
      " embedding (Embedding)          (None, None, 300)    10265700    ['input_1[0][0]']                \n",
      "                                                                                                  \n",
      " embedding_1 (Embedding)        (None, None, 300)    12220200    ['input_2[0][0]']                \n",
      "                                                                                                  \n",
      " lstm (LSTM)                    [(None, 300),        721200      ['embedding[0][0]']              \n",
      "                                 (None, 300),                                                     \n",
      "                                 (None, 300)]                                                     \n",
      "                                                                                                  \n",
      " lstm_1 (LSTM)                  [(None, None, 300),  721200      ['embedding_1[0][0]',            \n",
      "                                 (None, 300),                     'lstm[0][1]',                   \n",
      "                                 (None, 300)]                     'lstm[0][2]']                   \n",
      "                                                                                                  \n",
      " dense (Dense)                  (None, None, 40734)  12260934    ['lstm_1[0][0]']                 \n",
      "                                                                                                  \n",
      "==================================================================================================\n",
      "Total params: 36,189,234\n",
      "Trainable params: 36,189,234\n",
      "Non-trainable params: 0\n",
      "__________________________________________________________________________________________________\n"
     ]
    }
   ],
   "source": [
    "model.compile(optimizer='adam', loss='categorical_crossentropy')\n",
    "model.summary()"
   ]
  },
  {
   "cell_type": "code",
   "execution_count": 38,
   "id": "898adcaf-91bc-4177-8de6-a58d726747e5",
   "metadata": {},
   "outputs": [
    {
     "name": "stdout",
     "output_type": "stream",
     "text": [
      "Epoch 1/25\n",
      "495/495 [==============================] - 27s 44ms/step - loss: 3.8940 - val_loss: 3.6418\n",
      "Epoch 2/25\n",
      "495/495 [==============================] - 21s 42ms/step - loss: 3.5564 - val_loss: 3.4866\n",
      "Epoch 3/25\n",
      "495/495 [==============================] - 21s 42ms/step - loss: 3.5208 - val_loss: 3.3622\n",
      "Epoch 4/25\n",
      "495/495 [==============================] - 21s 41ms/step - loss: 3.3314 - val_loss: 3.4667\n",
      "Epoch 5/25\n",
      "495/495 [==============================] - 20s 41ms/step - loss: 3.1058 - val_loss: 3.4034\n",
      "Epoch 6/25\n",
      "495/495 [==============================] - 21s 43ms/step - loss: 2.9853 - val_loss: 3.3310\n",
      "Epoch 7/25\n",
      "495/495 [==============================] - 21s 43ms/step - loss: 2.9940 - val_loss: 3.3062\n",
      "Epoch 8/25\n",
      "495/495 [==============================] - 21s 42ms/step - loss: 2.8117 - val_loss: 3.5429\n",
      "Epoch 9/25\n",
      "495/495 [==============================] - 21s 42ms/step - loss: 2.6909 - val_loss: 3.5212\n",
      "Epoch 10/25\n",
      "495/495 [==============================] - 21s 42ms/step - loss: 2.5460 - val_loss: 3.4904\n",
      "Epoch 11/25\n",
      "495/495 [==============================] - 21s 42ms/step - loss: 2.5563 - val_loss: 3.5238\n",
      "Epoch 12/25\n",
      "495/495 [==============================] - 23s 46ms/step - loss: 2.3815 - val_loss: 3.9814\n",
      "Epoch 13/25\n",
      "495/495 [==============================] - 22s 44ms/step - loss: 2.3129 - val_loss: 3.8356\n",
      "Epoch 14/25\n",
      "495/495 [==============================] - 21s 43ms/step - loss: 2.1574 - val_loss: 3.8345\n",
      "Epoch 15/25\n",
      "495/495 [==============================] - 21s 43ms/step - loss: 2.1402 - val_loss: 3.8744\n",
      "Epoch 16/25\n",
      "495/495 [==============================] - 21s 43ms/step - loss: 1.9940 - val_loss: 4.4808\n",
      "Epoch 17/25\n",
      "495/495 [==============================] - 21s 42ms/step - loss: 1.9817 - val_loss: 4.2792\n",
      "Epoch 18/25\n",
      "495/495 [==============================] - 21s 42ms/step - loss: 1.8480 - val_loss: 4.2627\n",
      "Epoch 19/25\n",
      "495/495 [==============================] - 21s 42ms/step - loss: 1.8181 - val_loss: 4.3079\n",
      "Epoch 20/25\n",
      "495/495 [==============================] - 21s 42ms/step - loss: 1.6977 - val_loss: 4.9480\n",
      "Epoch 21/25\n",
      "495/495 [==============================] - 21s 42ms/step - loss: 1.7137 - val_loss: 4.7101\n",
      "Epoch 22/25\n",
      "495/495 [==============================] - 21s 42ms/step - loss: 1.5948 - val_loss: 4.6795\n",
      "Epoch 23/25\n",
      "495/495 [==============================] - 21s 42ms/step - loss: 1.5606 - val_loss: 4.8353\n",
      "Epoch 24/25\n",
      "495/495 [==============================] - 21s 43ms/step - loss: 1.4597 - val_loss: 5.4507\n",
      "Epoch 25/25\n",
      "495/495 [==============================] - 21s 42ms/step - loss: 1.4873 - val_loss: 5.2145\n"
     ]
    },
    {
     "data": {
      "text/plain": [
       "<keras.callbacks.History at 0x231ea935270>"
      ]
     },
     "execution_count": 38,
     "metadata": {},
     "output_type": "execute_result"
    }
   ],
   "source": [
    "checkpoint = ModelCheckpoint(\n",
    "    r'C:\\Users\\gufra\\Desktop\\Work\\Projects\\NLP\\MachineTranslation\\models\\nmt.h5', \n",
    "    save_best_only=True, \n",
    "    monitor='val_loss',\n",
    "    mode='min'\n",
    ")\n",
    "\n",
    "\n",
    "model.fit(\n",
    "    generate_batch(X_train, y_train),\n",
    "    steps_per_epoch = len(X_train)//batch_size,\n",
    "    validation_data = generate_batch(X_test, y_test), \n",
    "    validation_steps = len(X_test)//batch_size,\n",
    "    epochs=25,\n",
    "    callbacks=[checkpoint]\n",
    ")"
   ]
  },
  {
   "cell_type": "code",
   "execution_count": 43,
   "id": "eb2f01d7-7d8f-4f91-b552-170ebe3579b3",
   "metadata": {},
   "outputs": [],
   "source": [
    "encoder_model = Model(encoder_input, encoder_states)\n",
    "\n",
    "h_input = Input(shape=(latent_dim))\n",
    "c_input = Input(shape=(latent_dim))\n",
    "state_inputs = [h_input, c_input]\n",
    "\n",
    "decoder_embeddings_test = decoder_embedder(decoder_input)\n",
    "\n",
    "decoder_outputs_test, dh, dc = decoder_lstm(decoder_embeddings_test, initial_state=state_inputs)\n",
    "decoder_outputs_test = decoder_dense(decoder_outputs_test)\n",
    "\n",
    "decoder_model = Model(\n",
    "    [decoder_input] + state_inputs,\n",
    "    [decoder_outputs_test] + [dh, dc]\n",
    ")"
   ]
  }
 ],
 "metadata": {
  "kernelspec": {
   "display_name": "Python 3 (ipykernel)",
   "language": "python",
   "name": "python3"
  },
  "language_info": {
   "codemirror_mode": {
    "name": "ipython",
    "version": 3
   },
   "file_extension": ".py",
   "mimetype": "text/x-python",
   "name": "python",
   "nbconvert_exporter": "python",
   "pygments_lexer": "ipython3",
   "version": "3.10.9"
  }
 },
 "nbformat": 4,
 "nbformat_minor": 5
}
